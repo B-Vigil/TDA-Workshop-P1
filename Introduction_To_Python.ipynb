{
  "nbformat": 4,
  "nbformat_minor": 0,
  "metadata": {
    "colab": {
      "provenance": []
    },
    "kernelspec": {
      "name": "python3",
      "display_name": "Python 3"
    },
    "language_info": {
      "name": "python"
    }
  },
  "cells": [
    {
      "cell_type": "markdown",
      "source": [
        "# Jupyter Commands\n",
        "\n",
        "To begin our journey, we will take a look at how to navigate jupyter notebooks within Google Colab. Jupyter notebooks provide an interactive environment for running Python code (other languages are supported too e.g. JavaScript, HTML, etc.). There are many keyboard shortcuts that can be used to navigate this environment, but the following are most likely to be useful:\n",
        "\n",
        "### Command mode\n",
        "\n",
        "Press `Esc` to enter command mode\n",
        "\n",
        "* `Up/Down` navigate cells\n",
        "* `A` insert cell above\n",
        "* `B` insert cell below\n",
        "* `Shift+Enter` run cell\n",
        "* `M` switch to markdown input\n",
        "* `Y` switch to code input\n",
        "* `D,D` delete cell\n",
        "* `Z` undo\n",
        "* `CTRL+S` save notebook\n",
        "\n",
        "### Edit mode\n",
        "\n",
        "Press `Enter` to enter edit mode\n",
        "\n",
        "* `Shift+Enter` run cell\n",
        "* `Tab` auto complete a variable or module name\n",
        "* `CTRL+A` select all\n",
        "* `CTRL+Z` undo\n",
        "* `CTRL+Y` redo\n",
        "* `CTRL+S` save notebook\n",
        "\n",
        "\n",
        "A more complete set of commands can be found in this [cheatsheet](https://cheatography.com/weidadeyue/cheat-sheets/jupyter-notebook/).\n",
        "\n",
        "Although Jupyter Notebooks support other languages, we will be using Python for this workshop. As such, it would be beneficial to provide an introduction to Python for those who might be a novice, or for those who just want a refresher."
      ],
      "metadata": {
        "id": "yvoVGArVmzsX"
      }
    },
    {
      "cell_type": "markdown",
      "source": [
        "# **Introduction to Python**\n",
        "\n",
        "This notebook is meant to provide a gentle introduction into Python.<br><br>\n",
        "\n",
        "Python is a general purpose programming language, but is particularly excellent for solving data science problems. Python emphasizes code readability and simplicity, making it a popular choice for beginners and experienced programmers alike. It supports multiple programming paradigms, including procedural, object-oriented, and functional programming styles. Here, we will introduce Python and some of the important data structures that are relevant to data science tasks. This notebook will introduce the jupyter notebook environment, as well as Python data types, data structures, and control flow (conditionals, loops, and functions)."
      ],
      "metadata": {
        "id": "FWuHFexFzcGd"
      }
    },
    {
      "cell_type": "markdown",
      "source": [
        "# Data Types\n",
        "\n",
        "Python supports various built-in data types; however, here we will only introduce some of the most commonly used data types. Among those are:\n",
        "\n",
        "1. Integers\n",
        "2. Floats\n",
        "3. Strings\n",
        "4. Booleans"
      ],
      "metadata": {
        "id": "pwIy77Jh047S"
      }
    },
    {
      "cell_type": "markdown",
      "source": [
        "## 1. Integers\n",
        "\n",
        "Integers are whole numbers (0 with positive and negative natural numbers) that can be operated on with math operands. Python follows the **PEMDAS** rules for order of math operations.\n",
        "\n",
        "* **P**arentheses\n",
        "* **E**xponent\n",
        "* **M**ultiplication\n",
        "* **D**ivision\n",
        "* **A**ddition\n",
        "* **S**ubtraction"
      ],
      "metadata": {
        "id": "ljwnKY2v1oSt"
      }
    },
    {
      "cell_type": "code",
      "source": [
        "1 + 2 * 3"
      ],
      "metadata": {
        "id": "sSCivpI52re-"
      },
      "execution_count": null,
      "outputs": []
    },
    {
      "cell_type": "code",
      "source": [
        "2 ** 3 * (5 - 4)"
      ],
      "metadata": {
        "id": "xdlrJmhS20P7"
      },
      "execution_count": null,
      "outputs": []
    },
    {
      "cell_type": "markdown",
      "source": [
        "In Python, as well as many other programming languages, data types can be assigned to variables, and then operated on."
      ],
      "metadata": {
        "id": "kijLybbk3FpZ"
      }
    },
    {
      "cell_type": "code",
      "source": [
        "x = 13"
      ],
      "metadata": {
        "id": "O7T-WepT3T1i"
      },
      "execution_count": null,
      "outputs": []
    },
    {
      "cell_type": "code",
      "source": [
        "x * 13"
      ],
      "metadata": {
        "id": "mYZ0y7Gt3ZyL"
      },
      "execution_count": null,
      "outputs": []
    },
    {
      "cell_type": "markdown",
      "source": [
        "## 2. Floats\n",
        "\n",
        "Unlike integers, floats represent numbers with fractional parts. They are used to represent real numbers and can have decimal points. They can also be expressed as fractions using the `/` division operator."
      ],
      "metadata": {
        "id": "_6EIrL_s3i-8"
      }
    },
    {
      "cell_type": "code",
      "source": [
        "x = 0.5"
      ],
      "metadata": {
        "id": "D4t6wPUe4rt1"
      },
      "execution_count": null,
      "outputs": []
    },
    {
      "cell_type": "code",
      "source": [
        "x * 12"
      ],
      "metadata": {
        "id": "zO1EVeH34uG3"
      },
      "execution_count": null,
      "outputs": []
    },
    {
      "cell_type": "code",
      "source": [
        "x * 4/10"
      ],
      "metadata": {
        "id": "Masigocv42UW"
      },
      "execution_count": null,
      "outputs": []
    },
    {
      "cell_type": "markdown",
      "source": [
        "Floating point numbers are represented by bits in computer memory, so sometimes their representation isn't exact. If you compare numbers that have been operated on to precise floating point values, you may find unexpected results."
      ],
      "metadata": {
        "id": "wX6adN_h5KLj"
      }
    },
    {
      "cell_type": "code",
      "source": [
        "0.2 + 0.2 + 0.2 == 0.6"
      ],
      "metadata": {
        "id": "wf3b7UjZ5OvN"
      },
      "execution_count": null,
      "outputs": []
    },
    {
      "cell_type": "markdown",
      "source": [
        "This may lead to unexpected errors in your code; however, as long as you are cognizant of this phenomenon, and are careful when writing code, this shouldn't cause many errors. Please see the link below for a more detailed explanation:\n",
        "https://docs.python.org/3/tutorial/floatingpoint.html"
      ],
      "metadata": {
        "id": "vdMXR-Eg5jp6"
      }
    },
    {
      "cell_type": "markdown",
      "source": [
        "## 3. Strings\n",
        "\n",
        "In Python, a string is a sequence of zero or more characters enclosed within either single quotes (`'`) or double quotes (`\"`). They are typically used to represent human-readable text, but can store shorthand information too."
      ],
      "metadata": {
        "id": "DY0jqQp66AwE"
      }
    },
    {
      "cell_type": "code",
      "source": [
        "phrase = \"Hello, World!\""
      ],
      "metadata": {
        "id": "sBGvXPwq7mhI"
      },
      "execution_count": null,
      "outputs": []
    },
    {
      "cell_type": "code",
      "source": [
        "phrase"
      ],
      "metadata": {
        "id": "eJTDszFZ7r5t"
      },
      "execution_count": null,
      "outputs": []
    },
    {
      "cell_type": "markdown",
      "source": [
        "Stings can be operated on with the math operators `+` and `*`, but not with `-` or `/`."
      ],
      "metadata": {
        "id": "uGdXVCqJ7zNf"
      }
    },
    {
      "cell_type": "code",
      "source": [
        "phrase + \" \" + phrase"
      ],
      "metadata": {
        "id": "BEtinbCe75hQ"
      },
      "execution_count": null,
      "outputs": []
    },
    {
      "cell_type": "code",
      "source": [
        "phrase * 2"
      ],
      "metadata": {
        "id": "Ydp104wD8II8"
      },
      "execution_count": null,
      "outputs": []
    },
    {
      "cell_type": "markdown",
      "source": [
        "## 4. Booleans\n",
        "\n",
        "In Python, a boolean is a data type that represents one of two possible values: `True` or `False`. Booleans are used to evaluate conditions in logical expressions and control the flow of program execution."
      ],
      "metadata": {
        "id": "cfE6XJVd8PgX"
      }
    },
    {
      "cell_type": "code",
      "source": [
        "True"
      ],
      "metadata": {
        "id": "RMAr7aCw981R"
      },
      "execution_count": null,
      "outputs": []
    },
    {
      "cell_type": "code",
      "source": [
        "False"
      ],
      "metadata": {
        "id": "-yVWaOW09-sk"
      },
      "execution_count": null,
      "outputs": []
    },
    {
      "cell_type": "code",
      "source": [
        "True == 1"
      ],
      "metadata": {
        "id": "pdzadulm-AU3"
      },
      "execution_count": null,
      "outputs": []
    },
    {
      "cell_type": "code",
      "source": [
        "False == 0"
      ],
      "metadata": {
        "id": "plSYLbeA-EE9"
      },
      "execution_count": null,
      "outputs": []
    },
    {
      "cell_type": "code",
      "source": [
        "True == 0"
      ],
      "metadata": {
        "id": "5oRwB-ap-F-R"
      },
      "execution_count": null,
      "outputs": []
    },
    {
      "cell_type": "code",
      "source": [
        "False == 1"
      ],
      "metadata": {
        "id": "6s-sQBzY-IHA"
      },
      "execution_count": null,
      "outputs": []
    },
    {
      "cell_type": "markdown",
      "source": [
        "The `not` keyword is used to invert a boolean."
      ],
      "metadata": {
        "id": "q8JxivqJ-Mts"
      }
    },
    {
      "cell_type": "code",
      "source": [
        "not True"
      ],
      "metadata": {
        "id": "r35E4lR3-Qn5"
      },
      "execution_count": null,
      "outputs": []
    },
    {
      "cell_type": "code",
      "source": [
        "not False"
      ],
      "metadata": {
        "id": "81rJCt2w9Gsa"
      },
      "execution_count": null,
      "outputs": []
    },
    {
      "cell_type": "code",
      "source": [
        "not True == 0"
      ],
      "metadata": {
        "id": "Jr9G0Krn-WVz"
      },
      "execution_count": null,
      "outputs": []
    },
    {
      "cell_type": "code",
      "source": [
        "not False == 1"
      ],
      "metadata": {
        "id": "sXY0pxcJ-ZkN"
      },
      "execution_count": null,
      "outputs": []
    },
    {
      "cell_type": "markdown",
      "source": [
        "Comparisons can be made between data types, which will return a boolean value."
      ],
      "metadata": {
        "id": "m4YHbPQe-hvc"
      }
    },
    {
      "cell_type": "code",
      "source": [
        "23 > 2"
      ],
      "metadata": {
        "id": "k3_ojDcb-lbH"
      },
      "execution_count": null,
      "outputs": []
    },
    {
      "cell_type": "code",
      "source": [
        "4/5 < 0.0"
      ],
      "metadata": {
        "id": "-b8yNkad-obT"
      },
      "execution_count": null,
      "outputs": []
    },
    {
      "cell_type": "markdown",
      "source": [
        "The `is` operator also compares values, but not for equality."
      ],
      "metadata": {
        "id": "mvjX41rG-zVx"
      }
    },
    {
      "cell_type": "code",
      "source": [
        "x = None\n",
        "x is None"
      ],
      "metadata": {
        "id": "SHlB-OEE-141"
      },
      "execution_count": null,
      "outputs": []
    },
    {
      "cell_type": "code",
      "source": [
        "x = True\n",
        "x is True"
      ],
      "metadata": {
        "id": "4e5ubK0z-5f_"
      },
      "execution_count": null,
      "outputs": []
    },
    {
      "cell_type": "markdown",
      "source": [
        "# Data Structures\n",
        "\n",
        "Data structures are used to organize and store data efficiently. They provide various ways to represent and manipulate collections of data. The following are the most commonly used data structures in Python:\n",
        "\n",
        "1. Lists\n",
        "2. Tuples\n",
        "3. Dictionaries\n",
        "4. Mutability"
      ],
      "metadata": {
        "id": "en-T4W_x-_3R"
      }
    },
    {
      "cell_type": "markdown",
      "source": [
        "## 1. Lists\n",
        "\n",
        "In Python, a list is an ordered collection of items, where each item can be of any data type, including other lists. Lists are defined by enclosing a comma-separated sequence of items within square brackets (`[]`)."
      ],
      "metadata": {
        "id": "KoP940YB9lg6"
      }
    },
    {
      "cell_type": "code",
      "source": [
        "my_list = [1, 3.9, 72, \"Hello, World!\"]"
      ],
      "metadata": {
        "id": "M0riDkNFAILj"
      },
      "execution_count": null,
      "outputs": []
    },
    {
      "cell_type": "code",
      "source": [
        "my_list"
      ],
      "metadata": {
        "id": "QLUrMQSFAPaz"
      },
      "execution_count": null,
      "outputs": []
    },
    {
      "cell_type": "markdown",
      "source": [
        "You can access individual elements of a list using square bracket notation (`[]`). Python has zero-based indexing, so the first item in the list is at `0`, the second is at `1`, and so on."
      ],
      "metadata": {
        "id": "Ix4RHrFEAfsY"
      }
    },
    {
      "cell_type": "code",
      "source": [
        "my_list[1]"
      ],
      "metadata": {
        "id": "0qqYpW8ZAp89"
      },
      "execution_count": null,
      "outputs": []
    },
    {
      "cell_type": "code",
      "source": [
        "my_list[3]"
      ],
      "metadata": {
        "id": "-kWnpJxgAtoP"
      },
      "execution_count": null,
      "outputs": []
    },
    {
      "cell_type": "markdown",
      "source": [
        "Multiple items from a list can be selected using slicing via the `:` operator."
      ],
      "metadata": {
        "id": "c2BJ-YUUA3Wv"
      }
    },
    {
      "cell_type": "code",
      "source": [
        "my_list[1:3]"
      ],
      "metadata": {
        "id": "4a1h9Y_iA7ce"
      },
      "execution_count": null,
      "outputs": []
    },
    {
      "cell_type": "markdown",
      "source": [
        "Notice that the slice selected above begins at index `1`, but ends at index `2`, so slicing is inclusive on the first index, and non-inclusive on the final index."
      ],
      "metadata": {
        "id": "JsnXHojuBOmV"
      }
    },
    {
      "cell_type": "markdown",
      "source": [
        "Lists can also be modified by assigning values to indices."
      ],
      "metadata": {
        "id": "Bco6g1jRBc7S"
      }
    },
    {
      "cell_type": "code",
      "source": [
        "my_list[3] = 57"
      ],
      "metadata": {
        "id": "_96AiGusBooo"
      },
      "execution_count": null,
      "outputs": []
    },
    {
      "cell_type": "code",
      "source": [
        "my_list"
      ],
      "metadata": {
        "id": "xplUwlu7Bteq"
      },
      "execution_count": null,
      "outputs": []
    },
    {
      "cell_type": "markdown",
      "source": [
        "## 2. Tuples\n",
        "\n",
        "Tuples are an ordered collection of elements, similar to a list, but cannot be modified after they are created. Tuples are defined using parentheses `()` and can contain elements of any data type, including other tuples."
      ],
      "metadata": {
        "id": "nkNOwXpgERYY"
      }
    },
    {
      "cell_type": "code",
      "source": [
        "my_tuple = (\"Hello\", \"World\")"
      ],
      "metadata": {
        "id": "kA9E4aoJEmWc"
      },
      "execution_count": null,
      "outputs": []
    },
    {
      "cell_type": "markdown",
      "source": [
        "We can, however, modify the individual elements in a tuple."
      ],
      "metadata": {
        "id": "Rv5LY10hE9T3"
      }
    },
    {
      "cell_type": "code",
      "source": [
        "my_tuple[1] + \"!\""
      ],
      "metadata": {
        "id": "SeigUA8RFH5m"
      },
      "execution_count": null,
      "outputs": []
    },
    {
      "cell_type": "markdown",
      "source": [
        "Tuples are useful for storing small amounts of data that are related and shouldn't be modified. A real-world example might describe a physical location on Earth, giving its name, latitude, and longitude."
      ],
      "metadata": {
        "id": "TagmxsvuFy2r"
      }
    },
    {
      "cell_type": "code",
      "source": [
        "location = (\"Texas Tech\", 33.58, 101.87)"
      ],
      "metadata": {
        "id": "pWn3CmGCF-L6"
      },
      "execution_count": null,
      "outputs": []
    },
    {
      "cell_type": "code",
      "source": [
        "location"
      ],
      "metadata": {
        "id": "x-988d6vGU2s"
      },
      "execution_count": null,
      "outputs": []
    },
    {
      "cell_type": "markdown",
      "source": [
        "## 3. Dictionaries\n",
        "\n",
        "Dictionaries can be thought of as labeled data pairs, where the first value is called the \"key\" and the second the \"value\". Each key in a dictionary must be unique, while values can be of any data type and can be duplicated. Dictionaries are defined using curly braces `{}`, and each key-value pair is separated by a colon `:`."
      ],
      "metadata": {
        "id": "jal3pFzaHi8y"
      }
    },
    {
      "cell_type": "code",
      "source": [
        "my_dictionary = {\"Location\": \"Texas Tech\", \"Latitude\": 33.58, \"Longitude\": 101.87}"
      ],
      "metadata": {
        "id": "cfgJ8C_aH9XI"
      },
      "execution_count": null,
      "outputs": []
    },
    {
      "cell_type": "code",
      "source": [
        "my_dictionary"
      ],
      "metadata": {
        "id": "RciwJ6KDIJqg"
      },
      "execution_count": null,
      "outputs": []
    },
    {
      "cell_type": "markdown",
      "source": [
        "Unlike tuples, dictionaries can be modified. You can add or remove a new key-value pair similar to index notation in lists and tuples."
      ],
      "metadata": {
        "id": "cNGFGr-mIR8C"
      }
    },
    {
      "cell_type": "code",
      "source": [
        "my_dictionary[\"Altitude\"] = \"3200 feet\""
      ],
      "metadata": {
        "id": "pFjKWJ_pImOE"
      },
      "execution_count": null,
      "outputs": []
    },
    {
      "cell_type": "code",
      "source": [
        "my_dictionary"
      ],
      "metadata": {
        "id": "gTbSor4IIz1M"
      },
      "execution_count": null,
      "outputs": []
    },
    {
      "cell_type": "markdown",
      "source": [
        "You can also modify individual elements in a dictionary."
      ],
      "metadata": {
        "id": "1h7bTeAwI4Td"
      }
    },
    {
      "cell_type": "code",
      "source": [
        "my_dictionary[\"Location\"] = \"Texas Tech University\""
      ],
      "metadata": {
        "id": "1blfcWq_I8jr"
      },
      "execution_count": null,
      "outputs": []
    },
    {
      "cell_type": "code",
      "source": [
        "my_dictionary"
      ],
      "metadata": {
        "id": "dFYvEqbdJCG0"
      },
      "execution_count": null,
      "outputs": []
    },
    {
      "cell_type": "markdown",
      "source": [
        "## 4. Mutability\n",
        "\n",
        "Whether or not a data structure or type can be modified is referred to as *mutability*. A *mutable* data type can be modified, while an *immutable* data type cannot be modified.\n",
        "\n",
        "Mutable data types include:\n",
        "* Integers `int`\n",
        "* Floats `float`\n",
        "* Lists `list`\n",
        "* Dictionaries `dict`\n",
        "\n",
        "Immutable data types include:\n",
        "* Strings `str`\n",
        "* Tuples `tuple`\n",
        "\n",
        "Data type can be checked using the `type()` function."
      ],
      "metadata": {
        "id": "gtqrJ4uoKOtM"
      }
    },
    {
      "cell_type": "code",
      "source": [
        "type(my_dictionary)"
      ],
      "metadata": {
        "id": "qaSH3yx8KXFt"
      },
      "execution_count": null,
      "outputs": []
    },
    {
      "cell_type": "markdown",
      "source": [
        "# Control Flow\n",
        "\n",
        "Similar to other programming languages, Python has control flow keywords to help determine the order in which statements and expressions are executed in a program.\n",
        "\n",
        "1. Conditionals\n",
        "2. Functions\n",
        "3. Loops"
      ],
      "metadata": {
        "id": "SiBPoRK2LPOr"
      }
    },
    {
      "cell_type": "markdown",
      "source": [
        "## 1. Conditionals\n",
        "\n",
        "Conditional statements take the form of if, elif, and else. Booleans (`True` or `False`) are used to evaluate conditionals. Conditional statements allow you to execute certain blocks of code based on whether a condition is true or false."
      ],
      "metadata": {
        "id": "GAgUOQqcL8A9"
      }
    },
    {
      "cell_type": "code",
      "source": [
        "num = 3\n",
        "\n",
        "if num%2==0:\n",
        "  print(f\"{num} is even\")\n",
        "else:\n",
        "  print(f\"{num} is odd\")"
      ],
      "metadata": {
        "id": "kCaDKYaZMKaX"
      },
      "execution_count": null,
      "outputs": []
    },
    {
      "cell_type": "markdown",
      "source": [
        "Notice that equality between numbers is checked with `==`. Other mathmatical comparisons include:\n",
        "* Less than `<`\n",
        "* Greater than `>`\n",
        "* Less than or equal to `<=`\n",
        "* Greater than or equal to `>=`\n",
        "\n",
        "Conditionals can be combined with `and` or `or` statements."
      ],
      "metadata": {
        "id": "D3e-pnATMWNL"
      }
    },
    {
      "cell_type": "code",
      "source": [
        "a = 17\n",
        "\n",
        "if a%2 == 0 and a != 0:\n",
        "  print(f\"{a} is a non-zero even number\")\n",
        "elif a == 0:\n",
        "  print(f\"{a} is zero\")\n",
        "else:\n",
        "  print(f\"{a} is odd\")\n"
      ],
      "metadata": {
        "id": "HtbdZBrQNV7U"
      },
      "execution_count": null,
      "outputs": []
    },
    {
      "cell_type": "markdown",
      "source": [
        "## 2. Functions\n",
        "\n",
        "Instead of checking the parity of a number using the conditional statement above, a function can be defined to do this."
      ],
      "metadata": {
        "id": "4DQvZrcfRR4Z"
      }
    },
    {
      "cell_type": "code",
      "source": [
        "def non_zero_parity(a):\n",
        "  if a%2 == 0 and a != 0:\n",
        "    print(f\"{a} is a non-zero even number\")\n",
        "  elif a == 0:\n",
        "    print(f\"{a} is zero\")\n",
        "  else:\n",
        "    print(f\"{a} is odd\")"
      ],
      "metadata": {
        "id": "69tR6VElRjcy"
      },
      "execution_count": null,
      "outputs": []
    },
    {
      "cell_type": "code",
      "source": [
        "non_zero_parity(-87)"
      ],
      "metadata": {
        "id": "UZjUMgxfRvkP"
      },
      "execution_count": null,
      "outputs": []
    },
    {
      "cell_type": "markdown",
      "source": [
        "## 3. Loops\n",
        "\n",
        "Suppose there are multiple values for which we wish to check the parity. To check the parity, a list can be iterated over using a `for` loop."
      ],
      "metadata": {
        "id": "3BNVW8NjSO7I"
      }
    },
    {
      "cell_type": "code",
      "source": [
        "lst = [2, -15, 77, 100, 48, 57]\n",
        "\n",
        "for i in lst:\n",
        "  non_zero_parity(i)"
      ],
      "metadata": {
        "id": "opTSRRtiSs80"
      },
      "execution_count": null,
      "outputs": []
    }
  ]
}